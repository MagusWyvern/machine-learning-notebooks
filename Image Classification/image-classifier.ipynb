{
 "cells": [
  {
   "cell_type": "code",
   "execution_count": 2,
   "id": "bc41ff6e",
   "metadata": {},
   "outputs": [],
   "source": [
    "import tensorflow as tf\n",
    "import numpy as np"
   ]
  },
  {
   "cell_type": "markdown",
   "id": "531ef8dd",
   "metadata": {},
   "source": [
    "First method to load an image:"
   ]
  },
  {
   "cell_type": "code",
   "execution_count": null,
   "id": "e1c4eb02",
   "metadata": {},
   "outputs": [],
   "source": [
    "filename = 'image_data/'"
   ]
  }
 ],
 "metadata": {
  "kernelspec": {
   "display_name": "Python 3",
   "language": "python",
   "name": "python3"
  },
  "language_info": {
   "codemirror_mode": {
    "name": "ipython",
    "version": 3
   },
   "file_extension": ".py",
   "mimetype": "text/x-python",
   "name": "python",
   "nbconvert_exporter": "python",
   "pygments_lexer": "ipython3",
   "version": "3.8.8"
  }
 },
 "nbformat": 4,
 "nbformat_minor": 5
}
